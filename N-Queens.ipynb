{
 "cells": [
  {
   "cell_type": "markdown",
   "metadata": {},
   "source": [
    "<h2>A quick overview</h2>"
   ]
  },
  {
   "cell_type": "markdown",
   "metadata": {},
   "source": [
    "This is a basic implementation of a script that solves the N-Queen problem whose description can be found [here](http://en.wikipedia.org/wiki/Eight_queens_puzzle).\n",
    "<br/>Proposed script searches for a valid solution using one of three approaches:\n",
    "* **Random search**\n",
    "* **Backtracking**\n",
    "* **Forward checking**"
   ]
  },
  {
   "cell_type": "markdown",
   "metadata": {},
   "source": [
    "For performance measurement, visualization and utility purposes we import 3 modules: **time**, **pyplot** and **numpy**"
   ]
  },
  {
   "cell_type": "code",
   "execution_count": 215,
   "metadata": {},
   "outputs": [],
   "source": [
    "import time\n",
    "import numpy as np\n",
    "import matplotlib.pyplot as plt"
   ]
  },
  {
   "cell_type": "markdown",
   "metadata": {},
   "source": [
    "First thing that has to be done in order to solve N-Queen problem is creating a board on which queens will be placed. The following implementation uses a single array containing given number of integers to represent the board. Elements of the array indicate position of a queen in each row of the board. For example, array [2, 0, 3, 1] represents a 4 x 4 game board that looks like this:<br>\n",
    ".  .  Q  .<br>Q  .  .  .<br>.  .  .  Q<br>.  Q  .  .<br>\n",
    "Where Q represents a queen's position.<br><br>\n",
    "The board can be created by using function *initialize_the_board(n)* where n is board's size.\n",
    "Let's say we have a 5 x 5 board."
   ]
  },
  {
   "cell_type": "code",
   "execution_count": 184,
   "metadata": {},
   "outputs": [],
   "source": [
    "def initialize_the_board(n):\n",
    "    return [i for i in range(n)]\n",
    "\n",
    "board = initialize_the_board(5)"
   ]
  },
  {
   "cell_type": "markdown",
   "metadata": {},
   "source": [
    "We can visualize position of queens by using function below"
   ]
  },
  {
   "cell_type": "code",
   "execution_count": 185,
   "metadata": {},
   "outputs": [
    {
     "name": "stdout",
     "output_type": "stream",
     "text": [
      "Q . . . . \n",
      ". Q . . . \n",
      ". . Q . . \n",
      ". . . Q . \n",
      ". . . . Q \n",
      "\n"
     ]
    }
   ],
   "source": [
    "def print_board(solution):\n",
    "    for i in solution:\n",
    "        line = \". \" * i\n",
    "        line += \"Q \"\n",
    "        line += \". \" * (len(solution) - i - 1)\n",
    "        print(line)\n",
    "    print()\n",
    "    \n",
    "print_board(board)"
   ]
  },
  {
   "cell_type": "markdown",
   "metadata": {},
   "source": [
    "Next we should write a function that checks if a given setting of queens is a valid solution.  "
   ]
  },
  {
   "cell_type": "code",
   "execution_count": 131,
   "metadata": {},
   "outputs": [],
   "source": [
    "def is_valid(solution):\n",
    "    for i in range(len(solution)):\n",
    "        for j in range(i + 1, len(solution)):\n",
    "            if solution[i] == solution[j]:\n",
    "                return False\n",
    "            if abs(i - j) == abs(solution[i] - solution[j]):\n",
    "                return False\n",
    "    return True"
   ]
  },
  {
   "cell_type": "markdown",
   "metadata": {},
   "source": [
    "*solution* argument is a setting of queens represented as an array that does not necessarily have to be the same size as the board. This will come in handy during checking partial solutions in Backtracking and Forward checking approaches. \n",
    "Function returns false if two queens share the same column or diagonal. Since we used array as a representation of the board we do not have to worry about two queens sharing the same row."
   ]
  },
  {
   "cell_type": "markdown",
   "metadata": {},
   "source": [
    "Random search is definitely an easiest approach. According to its name, all we need to do is to shuffle our board array and check if it satisfies requirements. If it does, we found solution, if not - we shuffle again."
   ]
  },
  {
   "cell_type": "code",
   "execution_count": 186,
   "metadata": {},
   "outputs": [
    {
     "name": "stdout",
     "output_type": "stream",
     "text": [
      "Solution found in 4 iteration(s)\n",
      ". Q . . . \n",
      ". . . Q . \n",
      "Q . . . . \n",
      ". . Q . . \n",
      ". . . . Q \n",
      "\n"
     ]
    }
   ],
   "source": [
    "def random_search():\n",
    "    solution = board.copy()\n",
    "    iterations = 0\n",
    "    while not is_valid(solution):\n",
    "        iterations += 1\n",
    "        np.random.shuffle(solution)\n",
    "    return solution, iterations\n",
    "\n",
    "s, i = random_search()\n",
    "print(f\"Solution found in {i} iteration(s)\")\n",
    "print_board(s)"
   ]
  },
  {
   "cell_type": "markdown",
   "metadata": {},
   "source": [
    "Another approrach we can take is called Backtracking. Its implementation involves using an utility function called *get_position()* which returns a random position on which we can place queen. The function returns a valid solution as well as a number of iterations it needed to find the solution. "
   ]
  },
  {
   "cell_type": "code",
   "execution_count": 151,
   "metadata": {},
   "outputs": [
    {
     "name": "stdout",
     "output_type": "stream",
     "text": [
      ". . . . Q \n",
      ". . Q . . \n",
      "Q . . . . \n",
      ". . . Q . \n",
      ". Q . . . \n",
      "\n",
      "Solution found in 8 iteration(s)\n"
     ]
    }
   ],
   "source": [
    "def get_position(possible_positions):\n",
    "    if len(possible_positions) == 0:\n",
    "        return None\n",
    "    else:\n",
    "        np.random.shuffle(possible_positions)\n",
    "        return possible_positions.pop()\n",
    "    \n",
    "\n",
    "def backtracking():\n",
    "    solution = []\n",
    "    current_row = 0\n",
    "    unchecked_positions_for_each_row = [[i for i in range(len(board))] for _ in range(len(board))]\n",
    "    iterations = 0\n",
    "    while True:\n",
    "        iterations += 1\n",
    "        if current_row != len(board):\n",
    "            position = get_position(unchecked_positions_for_each_row[current_row])\n",
    "            if position is None:\n",
    "                if current_row == 0:\n",
    "                    return -1, -1\n",
    "                unchecked_positions_for_each_row[current_row] = [i for i in range(len(board))]\n",
    "                current_row -= 1\n",
    "                solution.pop()\n",
    "            else:\n",
    "                solution.append(position)\n",
    "                if is_valid(solution):\n",
    "                    current_row += 1\n",
    "                else:\n",
    "                    solution.pop()\n",
    "        else:\n",
    "            return solution, iterations \n",
    "s, i = backtracking()\n",
    "print_board(s)\n",
    "print(f\"Solution found in {i} iteration(s)\")"
   ]
  },
  {
   "cell_type": "markdown",
   "metadata": {},
   "source": [
    "Last approach we are going to implement is called Forward checking. This time we use *get_possible_position()* and *try_to_remove()* functions that are responsible for calculating viable positions for queens in subsequent rows and safely removing element from python arrays respectively. Similarly to *backtracking()* function this one also returns both solution and number of iterations it took to found it."
   ]
  },
  {
   "cell_type": "code",
   "execution_count": 178,
   "metadata": {},
   "outputs": [
    {
     "name": "stdout",
     "output_type": "stream",
     "text": [
      "Solution found in 10 iteration(s)\n",
      "Q . . . . \n",
      ". . Q . . \n",
      ". . . . Q \n",
      ". Q . . . \n",
      ". . . Q . \n",
      "\n"
     ]
    }
   ],
   "source": [
    "def try_to_remove(collection, arg):\n",
    "    try:\n",
    "        collection.remove(arg)\n",
    "        return collection\n",
    "    except ValueError:\n",
    "        return collection\n",
    "\n",
    "def get_possible_positions(row, checked_for_each_row, solution):\n",
    "        possibilities = [i for i in range(len(board))]\n",
    "        current_row = 0\n",
    "        for position in solution:\n",
    "            possibilities = try_to_remove(possibilities, position)\n",
    "            possibilities = try_to_remove(possibilities, position + row - current_row)\n",
    "            possibilities = try_to_remove(possibilities, position - row + current_row)\n",
    "            current_row += 1\n",
    "        for pos in checked_for_each_row:\n",
    "            possibilities = try_to_remove(possibilities, pos)\n",
    "        return possibilities\n",
    "\n",
    "def forward_checking():\n",
    "        solution = []\n",
    "        current_row = 0\n",
    "        checked_for_each_row = [set() for _ in range(len(board))]\n",
    "        iterations = 0\n",
    "        possibilities = [[i for i in range(len(board))] for _ in range(len(board))]\n",
    "        while True:\n",
    "            iterations += 1\n",
    "            if current_row != len(board):\n",
    "                possibilities[current_row] = get_possible_positions(current_row, checked_for_each_row[current_row], solution)\n",
    "                position = get_position(possibilities[current_row])\n",
    "                if position is None:\n",
    "                    if current_row == 0:\n",
    "                        return -1, -1\n",
    "                    possibilities[current_row] = [i for i in range(len(board))]\n",
    "                    checked_for_each_row[current_row].clear()\n",
    "                    current_row -= 1\n",
    "                    checked_for_each_row[current_row].add(solution.pop())\n",
    "                else:\n",
    "                    solution.append(position)\n",
    "                    current_row += 1\n",
    "            else:\n",
    "                return solution, iterations\n",
    "\n",
    "s, i = forward_checking()\n",
    "print(f\"Solution found in {i} iteration(s)\")\n",
    "print_board(s)"
   ]
  },
  {
   "cell_type": "markdown",
   "metadata": {},
   "source": [
    "Now, that all approaches work, we can compare their performance speed. Let's start with the simplest one - Random search. We will use it to solve problem for n ranging from 4 (because 4 is the least board size for which we can find a solution) to 20 and see how long it takes to find a solution if we rely purely on randomness."
   ]
  },
  {
   "cell_type": "code",
   "execution_count": 198,
   "metadata": {},
   "outputs": [
    {
     "name": "stdout",
     "output_type": "stream",
     "text": [
      "Execution time for n = 4: 0.000 seconds\n",
      "Execution time for n = 5: 0.000 seconds\n",
      "Execution time for n = 6: 0.000 seconds\n",
      "Execution time for n = 7: 0.001 seconds\n",
      "Execution time for n = 8: 0.005 seconds\n",
      "Execution time for n = 9: 0.003 seconds\n",
      "Execution time for n = 10: 0.017 seconds\n",
      "Execution time for n = 11: 0.117 seconds\n",
      "Execution time for n = 12: 0.071 seconds\n",
      "Execution time for n = 13: 0.387 seconds\n",
      "Execution time for n = 14: 0.491 seconds\n",
      "Execution time for n = 15: 0.771 seconds\n",
      "Execution time for n = 16: 7.940 seconds\n",
      "Execution time for n = 17: 18.038 seconds\n",
      "Execution time for n = 18: 31.643 seconds\n",
      "Execution time for n = 19: 92.159 seconds\n",
      "Execution time for n = 20: 259.183 seconds\n"
     ]
    },
    {
     "data": {
      "image/png": "[encoded data removed]",
      "text/plain": [
       "<Figure size 432x288 with 1 Axes>"
      ]
     },
     "metadata": {
      "needs_background": "light"
     },
     "output_type": "display_data"
    }
   ],
   "source": [
    "min_board_size, max_board_size = 4, 20\n",
    "board_sizes = np.arange(min_board_size, max_board_size+1)\n",
    "time_results = []\n",
    "\n",
    "for i in board_sizes:\n",
    "    board = initialize_the_board(i)\n",
    "    ttime = time.time()\n",
    "    s, iterations = random_search()\n",
    "    res = time.time() - ttime\n",
    "    time_results.append(res)\n",
    "    print(\"Execution time for n = %d: %.3f seconds\" %(i, res))\n",
    "#     print_board(s)\n",
    "#     print()\n",
    "\n",
    "plt.plot(board_sizes, time_results)\n",
    "plt.xlabel(\"Board size\")\n",
    "plt.ylabel(\"Time [s]\")\n",
    "plt.title(\"Random search results\")\n",
    "plt.show()"
   ]
  },
  {
   "cell_type": "markdown",
   "metadata": {},
   "source": [
    "We can see that for n less than 20 Random search performs reasonably well. However for higher values of n time required to find a valid solution increases exponentially, therefore we need more complex approaches. "
   ]
  },
  {
   "cell_type": "markdown",
   "metadata": {},
   "source": [
    "Let's now compare performances of Backtracking and Forward checking. We can expand the range of board sizes we want to test. Both approaches are compared only in terms of their execution time."
   ]
  },
  {
   "cell_type": "code",
   "execution_count": 214,
   "metadata": {},
   "outputs": [
    {
     "name": "stdout",
     "output_type": "stream",
     "text": [
      "BT execution time for n=30: 12.140\n",
      "FC execution time for n=30: 0.023\n",
      "BT execution time for n=31: 2.118\n",
      "FC execution time for n=31: 0.051\n",
      "BT execution time for n=32: 0.709\n",
      "FC execution time for n=32: 1.667\n",
      "BT execution time for n=33: 13.239\n",
      "FC execution time for n=33: 0.020\n",
      "BT execution time for n=34: 3.468\n",
      "FC execution time for n=34: 0.581\n",
      "BT execution time for n=35: 0.100\n",
      "FC execution time for n=35: 0.009\n",
      "BT execution time for n=36: 0.056\n",
      "FC execution time for n=36: 0.013\n",
      "BT execution time for n=37: 0.129\n",
      "FC execution time for n=37: 0.051\n",
      "BT execution time for n=38: 30.816\n",
      "FC execution time for n=38: 0.004\n",
      "BT execution time for n=39: 12.013\n",
      "FC execution time for n=39: 0.159\n",
      "BT execution time for n=40: 1.019\n",
      "FC execution time for n=40: 0.006\n",
      "BT execution time for n=41: 1.638\n",
      "FC execution time for n=41: 0.024\n",
      "BT execution time for n=42: 7.801\n",
      "FC execution time for n=42: 0.278\n",
      "BT execution time for n=43: 0.462\n",
      "FC execution time for n=43: 0.007\n",
      "BT execution time for n=44: 1.408\n",
      "FC execution time for n=44: 21.779\n",
      "BT execution time for n=45: 2.502\n",
      "FC execution time for n=45: 0.080\n",
      "BT execution time for n=46: 8.766\n",
      "FC execution time for n=46: 0.456\n",
      "BT execution time for n=47: 3.435\n",
      "FC execution time for n=47: 0.009\n",
      "BT execution time for n=48: 144.649\n",
      "FC execution time for n=48: 3.860\n",
      "BT execution time for n=49: 0.608\n",
      "FC execution time for n=49: 0.531\n",
      "BT execution time for n=50: 4.127\n",
      "FC execution time for n=50: 0.007\n"
     ]
    },
    {
     "data": {
      "image/png": "[encoded data removed]",
      "text/plain": [
       "<Figure size 432x288 with 1 Axes>"
      ]
     },
     "metadata": {
      "needs_background": "light"
     },
     "output_type": "display_data"
    }
   ],
   "source": [
    "min_board_size, max_board_size = 30, 50\n",
    "board_sizes = np.arange(min_board_size, max_board_size+1)\n",
    "BTTime = []\n",
    "FCTime = []\n",
    "\n",
    "for i in board_sizes:\n",
    "    board = initialize_the_board(i)\n",
    "    \n",
    "    start = time.time()\n",
    "    s, iterations = backtracking()\n",
    "    btTime = time.time() - start\n",
    "    BTTime.append(time.time() - start)\n",
    "    print(\"BT execution time for n=%d: %.3f\" %(i, btTime))\n",
    "#     print(\"BT iterations:\", iterations, '\\n')\n",
    "#     print_board(s)\n",
    "    \n",
    "    start = time.time()\n",
    "    s, iterations = forward_checking()\n",
    "    fcTime = time.time() - start\n",
    "    FCTime.append(time.time() - start)\n",
    "    print(\"FC execution time for n=%d: %.3f\" %(i, fcTime))\n",
    "#     print(\"FC iterations:\", iterations, '\\n')\n",
    "#     print_board(s)\n",
    "\n",
    "fig = plt.figure()\n",
    "timePlot = fig.add_subplot(111)\n",
    "plt.xticks(np.arange(min_board_size, max_board_size+1, step=1))\n",
    "timePlot.set_title('Execution time comparison')\n",
    "timePlot.set_xlabel('Board size')\n",
    "timePlot.set_ylabel('Time [s]')\n",
    "btTimePlot = plt.scatter(board_sizes, BTTime, label='Backtracking')\n",
    "fcTimePlot = plt.scatter(board_sizes, FCTime, label='Forward checking')\n",
    "timePlot.legend([btTimePlot, fcTimePlot], ['Backtracking', 'Forward checking'])\n",
    "\n",
    "plt.show()"
   ]
  },
  {
   "cell_type": "markdown",
   "metadata": {},
   "source": [
    "We can easily notice that - on average - Forward checking performs better than Backtracking.\n",
    "<br>*Note: try to run this part of the script few times to see if results are consistent. After all we are talking about heuristics*"
   ]
  },
  {
   "cell_type": "markdown",
   "metadata": {},
   "source": [
    "**Conclusion**: For small values of n the N-Queen problem can be quickly solved simply by using Random search. However when it comes to values like 20 or more you should consider using more complex approach like Backtracking or Forward checking. "
   ]
  }
 ],
 "metadata": {
  "kernelspec": {
   "display_name": "Python 3",
   "language": "python",
   "name": "python3"
  },
  "language_info": {
   "codemirror_mode": {
    "name": "ipython",
    "version": 3
   },
   "file_extension": ".py",
   "mimetype": "text/x-python",
   "name": "python",
   "nbconvert_exporter": "python",
   "pygments_lexer": "ipython3",
   "version": "3.6.6"
  }
 },
 "nbformat": 4,
 "nbformat_minor": 2
}
